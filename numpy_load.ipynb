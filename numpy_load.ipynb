{
 "cells": [
  {
   "cell_type": "code",
   "execution_count": 1,
   "metadata": {
    "collapsed": false
   },
   "outputs": [
    {
     "data": {
      "text/plain": [
       "array([[[   0.,    0.,    0.],\n",
       "        [   0.,   10.,   20.],\n",
       "        [   0.,   20.,   40.]],\n",
       "\n",
       "       [[ 100.,  100.,  100.],\n",
       "        [ 100.,  110.,  120.],\n",
       "        [ 100.,  120.,  140.]],\n",
       "\n",
       "       [[ 200.,  200.,  200.],\n",
       "        [ 200.,  210.,  220.],\n",
       "        [ 200.,  220.,  240.]]])"
      ]
     },
     "execution_count": 1,
     "metadata": {},
     "output_type": "execute_result"
    }
   ],
   "source": [
    "# Create a 3D array in numpy\n",
    "import numpy as np\n",
    "n = 3\n",
    "wind_total = [[[i*100+j*10*k for k in xrange(n)] for j in xrange(n)] for i in xrange(n)]\n",
    "wind_total = np.array(wind_total, np.double)\n",
    "wind_total"
   ]
  },
  {
   "cell_type": "code",
   "execution_count": 2,
   "metadata": {
    "collapsed": false
   },
   "outputs": [
    {
     "data": {
      "text/plain": [
       "array([[[   0.,    0.,    0.],\n",
       "        [   0.,   10.,   20.],\n",
       "        [   0.,   20.,   40.]],\n",
       "\n",
       "       [[ 100.,  100.,  100.],\n",
       "        [ 100.,  110.,  120.],\n",
       "        [ 100.,  120.,  140.]],\n",
       "\n",
       "       [[ 200.,  200.,  200.],\n",
       "        [ 200.,  210.,  220.],\n",
       "        [ 200.,  220.,  240.]]])"
      ]
     },
     "execution_count": 2,
     "metadata": {},
     "output_type": "execute_result"
    }
   ],
   "source": [
    "# Import numPy array into SciDB\n",
    "from scidbpy import connect\n",
    "sdb = connect('http://localhost:8080')\n",
    "temp = sdb.from_array(wind_total)\n",
    "temp.scan().toarray()"
   ]
  },
  {
   "cell_type": "code",
   "execution_count": 3,
   "metadata": {
    "collapsed": false
   },
   "outputs": [
    {
     "data": {
      "text/plain": [
       "u'<f0:double> [i0=0:2,1000,0,i1=0:2,1000,0,i2=0:2,1000,0]'"
      ]
     },
     "execution_count": 3,
     "metadata": {},
     "output_type": "execute_result"
    }
   ],
   "source": [
    "# Inspect the dynamically generated array schema.\n",
    "# Note the chunk sizes chosen below for later use\n",
    "temp.schema"
   ]
  },
  {
   "cell_type": "code",
   "execution_count": 4,
   "metadata": {
    "collapsed": false
   },
   "outputs": [],
   "source": [
    "# Some basic cleanup\n",
    "name = \"winds\"\n",
    "if name in sdb.afl.list().todataframe()['name'].tolist(): # if the array already exists\n",
    "    sdb.query(\"remove(\" + name + \")\")                    # delete it"
   ]
  },
  {
   "cell_type": "code",
   "execution_count": 5,
   "metadata": {
    "collapsed": false
   },
   "outputs": [
    {
     "data": {
      "text/plain": [
       "array([[[ 0.,  0.,  0.],\n",
       "        [ 0.,  0.,  0.],\n",
       "        [ 0.,  0.,  0.]],\n",
       "\n",
       "       [[ 0.,  0.,  0.],\n",
       "        [ 0.,  0.,  0.],\n",
       "        [ 0.,  0.,  0.]],\n",
       "\n",
       "       [[ 0.,  0.,  0.],\n",
       "        [ 0.,  0.,  0.],\n",
       "        [ 0.,  0.,  0.]]])"
      ]
     },
     "execution_count": 5,
     "metadata": {},
     "output_type": "execute_result"
    }
   ],
   "source": [
    "# Create the new array schema. \n",
    "# Use the chunk size generated above\n",
    "sdb.query(\"create array \"+name+\" < m_s:double >\\\n",
    "            [time=0:\"+str(wind_total.shape[0] - 1)+\",2000,0,\\\n",
    "            lat=0:\"+str(wind_total.shape[1] - 1)+\",2000,0,\\\n",
    "            lon=0:\"+str(wind_total.shape[2] - 1)+\",2000,0]\")\n",
    "Array = sdb.wrap_array(name)\n",
    "Array.scan().toarray()"
   ]
  },
  {
   "cell_type": "code",
   "execution_count": 6,
   "metadata": {
    "collapsed": false
   },
   "outputs": [
    {
     "name": "stdout",
     "output_type": "stream",
     "text": [
      "<f0:double> [i0=0:2,1000,0,i1=0:2,1000,0,i2=0:2,1000,0]\n",
      "<m_s:double> [time=0:2,2000,0,lat=0:2,2000,0,lon=0:2,2000,0]\n"
     ]
    }
   ],
   "source": [
    "# The array is empty, but let's compare schemas. The schema you explicitly created is more meaningful\n",
    "print(temp.schema)\n",
    "print(Array.schema)"
   ]
  },
  {
   "cell_type": "code",
   "execution_count": 7,
   "metadata": {
    "collapsed": false
   },
   "outputs": [
    {
     "name": "stdout",
     "output_type": "stream",
     "text": [
      "store(py1101194836608_00011, winds)\n"
     ]
    }
   ],
   "source": [
    "# Now let's copy the data from temp array into the desired array.\n",
    "\n",
    "# Let's investigate the query first\n",
    "query = \"store(\" + temp.name + \", \" + Array.name + \")\"\n",
    "print(query)\n",
    "\n",
    "# Note the eval statement is necessary to execute the statement\n",
    "sdb.query(query)"
   ]
  },
  {
   "cell_type": "code",
   "execution_count": 8,
   "metadata": {
    "collapsed": false
   },
   "outputs": [
    {
     "data": {
      "text/plain": [
       "array([[[   0.,    0.,    0.],\n",
       "        [   0.,   10.,   20.],\n",
       "        [   0.,   20.,   40.]],\n",
       "\n",
       "       [[ 100.,  100.,  100.],\n",
       "        [ 100.,  110.,  120.],\n",
       "        [ 100.,  120.,  140.]],\n",
       "\n",
       "       [[ 200.,  200.,  200.],\n",
       "        [ 200.,  210.,  220.],\n",
       "        [ 200.,  220.,  240.]]])"
      ]
     },
     "execution_count": 8,
     "metadata": {},
     "output_type": "execute_result"
    }
   ],
   "source": [
    "# Finally, let's examine what got stored in the desired array\n",
    "Array.scan().toarray()"
   ]
  },
  {
   "cell_type": "code",
   "execution_count": 9,
   "metadata": {
    "collapsed": false
   },
   "outputs": [
    {
     "data": {
      "text/plain": [
       "True"
      ]
     },
     "execution_count": 9,
     "metadata": {},
     "output_type": "execute_result"
    }
   ],
   "source": [
    "# run a check with the original `wind_total` array\n",
    "(Array.scan().toarray() == wind_total).all()"
   ]
  }
 ],
 "metadata": {
  "kernelspec": {
   "display_name": "Python 2",
   "language": "python",
   "name": "python2"
  },
  "language_info": {
   "codemirror_mode": {
    "name": "ipython",
    "version": 2
   },
   "file_extension": ".py",
   "mimetype": "text/x-python",
   "name": "python",
   "nbconvert_exporter": "python",
   "pygments_lexer": "ipython2",
   "version": "2.7.10"
  }
 },
 "nbformat": 4,
 "nbformat_minor": 0
}
